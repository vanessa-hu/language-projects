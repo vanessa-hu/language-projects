{
 "cells": [
  {
   "cell_type": "markdown",
   "metadata": {},
   "source": [
    "# Exploring NLP"
   ]
  },
  {
   "cell_type": "code",
   "execution_count": 1,
   "metadata": {},
   "outputs": [],
   "source": [
    "import spacy"
   ]
  },
  {
   "cell_type": "code",
   "execution_count": 2,
   "metadata": {},
   "outputs": [],
   "source": [
    "nlp = spacy.load('en_core_web_lg') #load English model"
   ]
  },
  {
   "cell_type": "code",
   "execution_count": 19,
   "metadata": {},
   "outputs": [],
   "source": [
    "text = \"\"\" Shanghai is one of the four municipalities under the People's Republic of China, the largest city in China by population, and the largest city proper\n",
    " in the world, with a population of 26.3 million as of 2019. It is a global\n",
    " financial center and transport hub, with the world's busiest container port.\n",
    " It is located in the Yangtze River Delta. Shanghai has been described as\n",
    " the \"showpiece\" of the booming economy of mainland China; renowned for its\n",
    " Lujiazui skyline, museums and historic buildings, such as those along The \n",
    " Bund, as well as the City God Temple and the Yu Garden.\"\"\""
   ]
  },
  {
   "cell_type": "code",
   "execution_count": 20,
   "metadata": {},
   "outputs": [
    {
     "name": "stdout",
     "output_type": "stream",
     "text": [
      "Shanghai: GPE\n",
      "one: CARDINAL\n",
      "four: CARDINAL\n",
      "the People's Republic of China: GPE\n",
      "China: GPE\n",
      "26.3 million: CARDINAL\n",
      "2019: DATE\n",
      "the Yangtze River Delta: LOC\n",
      "Shanghai: GPE\n",
      "China: GPE\n",
      "Lujiazui: LOC\n",
      "The \n",
      " Bund: LOC\n",
      "the City God Temple: GPE\n",
      "the Yu Garden: FAC\n"
     ]
    }
   ],
   "source": [
    "doc = nlp(text)\n",
    "for entity in doc.ents:\n",
    "    print(entity.text + \": \" + entity.label_)"
   ]
  },
  {
   "cell_type": "code",
   "execution_count": 23,
   "metadata": {},
   "outputs": [
    {
     "name": "stdout",
     "output_type": "stream",
     "text": [
      "\"'I Don't Care' is a song by British singer-songwriter [CONFIDENTIAL]\n",
      "and Canadian singer [CONFIDENTIAL], as the first single of [CONFIDENTIAL]upcoming\n",
      "fourth studio album No.6 Collaborations Project.\n"
     ]
    }
   ],
   "source": [
    "def redact_name(token):\n",
    "    if token.ent_iob != 0 and token.ent_type_ == \"PERSON\":\n",
    "        return \"[CONFIDENTIAL]\"\n",
    "    else:\n",
    "        return token.string\n",
    "def scrub(text):\n",
    "    doc = nlp(text)\n",
    "    for entity in doc.ents:\n",
    "        entity.merge()\n",
    "    tokens = map(redact_name, doc)\n",
    "    return \"\".join(tokens)\n",
    "text2 = \"\"\"\"'I Don't Care' is a song by British singer-songwriter Ed Sheeran\n",
    "and Canadian singer Justin Bieber, as the first single of Ed Sheeran’s upcoming\n",
    "fourth studio album No.6 Collaborations Project.\"\"\"\n",
    "\n",
    "print(scrub(text2))"
   ]
  },
  {
   "cell_type": "code",
   "execution_count": null,
   "metadata": {},
   "outputs": [],
   "source": []
  }
 ],
 "metadata": {
  "kernelspec": {
   "display_name": "Python 3",
   "language": "python",
   "name": "python3"
  },
  "language_info": {
   "codemirror_mode": {
    "name": "ipython",
    "version": 3
   },
   "file_extension": ".py",
   "mimetype": "text/x-python",
   "name": "python",
   "nbconvert_exporter": "python",
   "pygments_lexer": "ipython3",
   "version": "3.7.1"
  }
 },
 "nbformat": 4,
 "nbformat_minor": 2
}
